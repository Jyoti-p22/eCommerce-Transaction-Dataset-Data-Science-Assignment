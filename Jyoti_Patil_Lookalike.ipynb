{
 "cells": [
  {
   "cell_type": "markdown",
   "id": "bb4b0fdb",
   "metadata": {},
   "source": [
    "# Step 1 : Data Preprocessing"
   ]
  },
  {
   "cell_type": "code",
   "execution_count": 11,
   "id": "f27f6b1b",
   "metadata": {},
   "outputs": [],
   "source": [
    "import pandas as pd\n",
    "\n",
    "# Load datasets\n",
    "customers = pd.read_csv('C:/Users/Admin/Desktop/Customers.csv')\n",
    "products = pd.read_csv('C:/Users/Admin/Desktop/products.csv')\n",
    "transactions = pd.read_csv('C:/Users/Admin/Desktop/transactions.csv')\n"
   ]
  },
  {
   "cell_type": "code",
   "execution_count": 12,
   "id": "d2f80bfb",
   "metadata": {},
   "outputs": [],
   "source": [
    "# Merge datasets to get a comprehensive view\n",
    "data = pd.merge(transactions, customers, on='CustomerID')\n",
    "data = pd.merge(data, products, on='ProductID')"
   ]
  },
  {
   "cell_type": "code",
   "execution_count": 13,
   "id": "064ed47b",
   "metadata": {},
   "outputs": [],
   "source": [
    "# Convert dates to datetime format\n",
    "data['SignupDate'] = pd.to_datetime(data['SignupDate'])\n",
    "data['TransactionDate'] = pd.to_datetime(data['TransactionDate'])"
   ]
  },
  {
   "cell_type": "code",
   "execution_count": 14,
   "id": "530b3e01",
   "metadata": {},
   "outputs": [
    {
     "name": "stdout",
     "output_type": "stream",
     "text": [
      "  TransactionID CustomerID ProductID     TransactionDate  Quantity  \\\n",
      "0        T00001      C0199      P067 2024-08-25 12:38:23         1   \n",
      "1        T00112      C0146      P067 2024-05-27 22:23:54         1   \n",
      "2        T00166      C0127      P067 2024-04-25 07:38:55         1   \n",
      "3        T00272      C0087      P067 2024-03-26 22:55:37         2   \n",
      "4        T00363      C0070      P067 2024-03-21 15:10:10         3   \n",
      "\n",
      "   TotalValue  Price_x     CustomerName         Region SignupDate  \\\n",
      "0      300.68   300.68   Andrea Jenkins         Europe 2022-12-03   \n",
      "1      300.68   300.68  Brittany Harvey           Asia 2024-09-04   \n",
      "2      300.68   300.68  Kathryn Stevens         Europe 2024-04-04   \n",
      "3      601.36   300.68  Travis Campbell  South America 2024-04-11   \n",
      "4      902.04   300.68    Timothy Perez         Europe 2022-03-15   \n",
      "\n",
      "                       ProductName     Category  Price_y  \n",
      "0  ComfortLiving Bluetooth Speaker  Electronics   300.68  \n",
      "1  ComfortLiving Bluetooth Speaker  Electronics   300.68  \n",
      "2  ComfortLiving Bluetooth Speaker  Electronics   300.68  \n",
      "3  ComfortLiving Bluetooth Speaker  Electronics   300.68  \n",
      "4  ComfortLiving Bluetooth Speaker  Electronics   300.68  \n"
     ]
    }
   ],
   "source": [
    "# Display the first few rows of the merged dataset\n",
    "print(data.head())"
   ]
  },
  {
   "cell_type": "markdown",
   "id": "70562455",
   "metadata": {},
   "source": [
    "# Step 2: Feature Engineering"
   ]
  },
  {
   "cell_type": "markdown",
   "id": "e4b4acf7",
   "metadata": {},
   "source": [
    "We will create features that capture customer behavior and product preferences."
   ]
  },
  {
   "cell_type": "code",
   "execution_count": 15,
   "id": "4e69cf84",
   "metadata": {},
   "outputs": [],
   "source": [
    "# Feature 1: Total spending per customer\n",
    "total_spending = data.groupby('CustomerID')['TotalValue'].sum().reset_index()\n",
    "total_spending.columns = ['CustomerID', 'TotalSpending']"
   ]
  },
  {
   "cell_type": "code",
   "execution_count": 16,
   "id": "e690ec09",
   "metadata": {},
   "outputs": [],
   "source": [
    "# Feature 2: Average transaction value per customer\n",
    "avg_transaction_value = data.groupby('CustomerID')['TotalValue'].mean().reset_index()\n",
    "avg_transaction_value.columns = ['CustomerID', 'AvgTransactionValue']\n"
   ]
  },
  {
   "cell_type": "code",
   "execution_count": 17,
   "id": "8bcf82e5",
   "metadata": {},
   "outputs": [],
   "source": [
    "# Feature 3: Number of transactions per customer\n",
    "num_transactions = data.groupby('CustomerID')['TransactionID'].count().reset_index()\n",
    "num_transactions.columns = ['CustomerID', 'NumTransactions']\n"
   ]
  },
  {
   "cell_type": "code",
   "execution_count": 18,
   "id": "5f2938fb",
   "metadata": {},
   "outputs": [],
   "source": [
    "# Feature 4: Favorite product category (most purchased category)\n",
    "favorite_category = data.groupby(['CustomerID', 'Category']).size().reset_index(name='Count')\n",
    "favorite_category = favorite_category.loc[favorite_category.groupby('CustomerID')['Count'].idxmax()]\n",
    "favorite_category = favorite_category[['CustomerID', 'Category']]\n",
    "favorite_category.columns = ['CustomerID', 'FavoriteCategory']"
   ]
  },
  {
   "cell_type": "code",
   "execution_count": 19,
   "id": "d71fc285",
   "metadata": {},
   "outputs": [],
   "source": [
    "# Merge all features into a single dataframe\n",
    "customer_features = pd.merge(total_spending, avg_transaction_value, on='CustomerID')\n",
    "customer_features = pd.merge(customer_features, num_transactions, on='CustomerID')\n",
    "customer_features = pd.merge(customer_features, favorite_category, on='CustomerID')"
   ]
  },
  {
   "cell_type": "code",
   "execution_count": 21,
   "id": "85536d68",
   "metadata": {},
   "outputs": [
    {
     "name": "stdout",
     "output_type": "stream",
     "text": [
      "  CustomerID  TotalSpending  AvgTransactionValue  NumTransactions  \\\n",
      "0      C0001        3354.52              670.904                5   \n",
      "1      C0002        1862.74              465.685                4   \n",
      "2      C0003        2725.38              681.345                4   \n",
      "3      C0004        5354.88              669.360                8   \n",
      "4      C0005        2034.24              678.080                3   \n",
      "\n",
      "  FavoriteCategory  \n",
      "0      Electronics  \n",
      "1         Clothing  \n",
      "2       Home Decor  \n",
      "3            Books  \n",
      "4      Electronics  \n"
     ]
    }
   ],
   "source": [
    "# Display the first few rows of the customer features dataframe\n",
    "print(customer_features.head())"
   ]
  },
  {
   "cell_type": "markdown",
   "id": "56bead28",
   "metadata": {},
   "source": [
    "# Step 3: Similarity Calculation"
   ]
  },
  {
   "cell_type": "markdown",
   "id": "59f2fff8",
   "metadata": {},
   "source": [
    "We will use cosine similarity to calculate the similarity between customers."
   ]
  },
  {
   "cell_type": "code",
   "execution_count": 28,
   "id": "15456a24",
   "metadata": {},
   "outputs": [
    {
     "name": "stdout",
     "output_type": "stream",
     "text": [
      "CustomerID              object\n",
      "TotalSpending          float64\n",
      "AvgTransactionValue    float64\n",
      "NumTransactions          int64\n",
      "FavoriteCategory        object\n",
      "dtype: object\n"
     ]
    }
   ],
   "source": [
    "print(customer_features.dtypes)"
   ]
  },
  {
   "cell_type": "code",
   "execution_count": 29,
   "id": "1e9b2a10",
   "metadata": {},
   "outputs": [
    {
     "name": "stdout",
     "output_type": "stream",
     "text": [
      "   TotalSpending  AvgTransactionValue  NumTransactions  CustomerID_C0002  \\\n",
      "0        3354.52              670.904                5               0.0   \n",
      "1        1862.74              465.685                4               1.0   \n",
      "2        2725.38              681.345                4               0.0   \n",
      "3        5354.88              669.360                8               0.0   \n",
      "4        2034.24              678.080                3               0.0   \n",
      "\n",
      "   CustomerID_C0003  CustomerID_C0004  CustomerID_C0005  CustomerID_C0006  \\\n",
      "0               0.0               0.0               0.0               0.0   \n",
      "1               0.0               0.0               0.0               0.0   \n",
      "2               1.0               0.0               0.0               0.0   \n",
      "3               0.0               1.0               0.0               0.0   \n",
      "4               0.0               0.0               1.0               0.0   \n",
      "\n",
      "   CustomerID_C0007  CustomerID_C0008  ...  CustomerID_C0194  \\\n",
      "0               0.0               0.0  ...               0.0   \n",
      "1               0.0               0.0  ...               0.0   \n",
      "2               0.0               0.0  ...               0.0   \n",
      "3               0.0               0.0  ...               0.0   \n",
      "4               0.0               0.0  ...               0.0   \n",
      "\n",
      "   CustomerID_C0195  CustomerID_C0196  CustomerID_C0197  CustomerID_C0198  \\\n",
      "0               0.0               0.0               0.0               0.0   \n",
      "1               0.0               0.0               0.0               0.0   \n",
      "2               0.0               0.0               0.0               0.0   \n",
      "3               0.0               0.0               0.0               0.0   \n",
      "4               0.0               0.0               0.0               0.0   \n",
      "\n",
      "   CustomerID_C0199  CustomerID_C0200  FavoriteCategory_Clothing  \\\n",
      "0               0.0               0.0                        0.0   \n",
      "1               0.0               0.0                        1.0   \n",
      "2               0.0               0.0                        0.0   \n",
      "3               0.0               0.0                        0.0   \n",
      "4               0.0               0.0                        0.0   \n",
      "\n",
      "   FavoriteCategory_Electronics  FavoriteCategory_Home Decor  \n",
      "0                           1.0                          0.0  \n",
      "1                           0.0                          0.0  \n",
      "2                           0.0                          1.0  \n",
      "3                           0.0                          0.0  \n",
      "4                           1.0                          0.0  \n",
      "\n",
      "[5 rows x 204 columns]\n"
     ]
    }
   ],
   "source": [
    "from sklearn.preprocessing import OneHotEncoder\n",
    "\n",
    "# Identify categorical columns\n",
    "categorical_columns = customer_features.select_dtypes(include=['object', 'category']).columns\n",
    "\n",
    "# One-hot encode all categorical columns\n",
    "encoder = OneHotEncoder(sparse=False, drop='first')  # drop='first' to avoid multicollinearity\n",
    "encoded_features = encoder.fit_transform(customer_features[categorical_columns])\n",
    "\n",
    "# Convert encoded features to a dataframe\n",
    "encoded_features_df = pd.DataFrame(encoded_features, columns=encoder.get_feature_names_out(categorical_columns))\n",
    "\n",
    "# Drop original categorical columns and concatenate encoded columns\n",
    "customer_features_encoded = customer_features.drop(categorical_columns, axis=1)\n",
    "customer_features_encoded = pd.concat([customer_features_encoded, encoded_features_df], axis=1)\n",
    "\n",
    "# Display the first few rows of the encoded dataframe\n",
    "print(customer_features_encoded.head())"
   ]
  },
  {
   "cell_type": "code",
   "execution_count": 30,
   "id": "26c7db49",
   "metadata": {},
   "outputs": [
    {
     "name": "stdout",
     "output_type": "stream",
     "text": [
      "   AvgTransactionValue  NumTransactions  CustomerID_C0002  CustomerID_C0003  \\\n",
      "0            -0.070263        -0.011458         -0.071067         -0.071067   \n",
      "1            -0.934933        -0.467494         14.071247         -0.071067   \n",
      "2            -0.026271        -0.467494         -0.071067         14.071247   \n",
      "3            -0.076769         1.356650         -0.071067         -0.071067   \n",
      "4            -0.040028        -0.923530         -0.071067         -0.071067   \n",
      "\n",
      "   CustomerID_C0004  CustomerID_C0005  CustomerID_C0006  CustomerID_C0007  \\\n",
      "0         -0.071067         -0.071067         -0.071067         -0.071067   \n",
      "1         -0.071067         -0.071067         -0.071067         -0.071067   \n",
      "2         -0.071067         -0.071067         -0.071067         -0.071067   \n",
      "3         14.071247         -0.071067         -0.071067         -0.071067   \n",
      "4         -0.071067         14.071247         -0.071067         -0.071067   \n",
      "\n",
      "   CustomerID_C0008  CustomerID_C0009  ...  CustomerID_C0194  \\\n",
      "0         -0.071067         -0.071067  ...         -0.071067   \n",
      "1         -0.071067         -0.071067  ...         -0.071067   \n",
      "2         -0.071067         -0.071067  ...         -0.071067   \n",
      "3         -0.071067         -0.071067  ...         -0.071067   \n",
      "4         -0.071067         -0.071067  ...         -0.071067   \n",
      "\n",
      "   CustomerID_C0195  CustomerID_C0196  CustomerID_C0197  CustomerID_C0198  \\\n",
      "0         -0.071067         -0.071067         -0.071067         -0.071067   \n",
      "1         -0.071067         -0.071067         -0.071067         -0.071067   \n",
      "2         -0.071067         -0.071067         -0.071067         -0.071067   \n",
      "3         -0.071067         -0.071067         -0.071067         -0.071067   \n",
      "4         -0.071067         -0.071067         -0.071067         -0.071067   \n",
      "\n",
      "   CustomerID_C0199  CustomerID_C0200  FavoriteCategory_Clothing  \\\n",
      "0         -0.071067         -0.071067                  -0.540562   \n",
      "1         -0.071067         -0.071067                   1.849925   \n",
      "2         -0.071067         -0.071067                  -0.540562   \n",
      "3         -0.071067         -0.071067                  -0.540562   \n",
      "4         -0.071067         -0.071067                  -0.540562   \n",
      "\n",
      "   FavoriteCategory_Electronics  FavoriteCategory_Home Decor  \n",
      "0                      1.849925                    -0.517219  \n",
      "1                     -0.540562                    -0.517219  \n",
      "2                     -0.540562                     1.933415  \n",
      "3                     -0.540562                    -0.517219  \n",
      "4                      1.849925                    -0.517219  \n",
      "\n",
      "[5 rows x 203 columns]\n"
     ]
    }
   ],
   "source": [
    "from sklearn.preprocessing import StandardScaler\n",
    "\n",
    "# Normalize the features\n",
    "scaler = StandardScaler()\n",
    "scaled_features = scaler.fit_transform(customer_features_encoded.iloc[:, 1:])  # Exclude 'CustomerID'\n",
    "\n",
    "# Convert scaled features back to a dataframe (optional)\n",
    "scaled_features_df = pd.DataFrame(scaled_features, columns=customer_features_encoded.columns[1:])\n",
    "\n",
    "# Display the first few rows of the scaled features\n",
    "print(scaled_features_df.head())"
   ]
  },
  {
   "cell_type": "code",
   "execution_count": 32,
   "id": "4588bad4",
   "metadata": {},
   "outputs": [],
   "source": [
    "# Calculate cosine similarity\n",
    "similarity_matrix = cosine_similarity(scaled_features)"
   ]
  },
  {
   "cell_type": "code",
   "execution_count": 33,
   "id": "19761084",
   "metadata": {},
   "outputs": [],
   "source": [
    "# Convert the similarity matrix to a dataframe\n",
    "similarity_df = pd.DataFrame(similarity_matrix, index=customer_features['CustomerID'], columns=customer_features['CustomerID'])\n"
   ]
  },
  {
   "cell_type": "code",
   "execution_count": 34,
   "id": "3f41a4e2",
   "metadata": {},
   "outputs": [
    {
     "name": "stdout",
     "output_type": "stream",
     "text": [
      "CustomerID     C0001     C0002     C0003     C0004     C0005     C0006  \\\n",
      "CustomerID                                                               \n",
      "C0001       1.000000 -0.052239 -0.053536 -0.014362  0.125155 -0.017286   \n",
      "C0002      -0.052239  1.000000 -0.012143 -0.009921 -0.011147 -0.013217   \n",
      "C0003      -0.053536 -0.012143  1.000000 -0.010157 -0.011219 -0.006148   \n",
      "C0004      -0.014362 -0.009921 -0.010157  1.000000 -0.013317 -0.004512   \n",
      "C0005       0.125155 -0.011147 -0.011219 -0.013317  1.000000 -0.005321   \n",
      "\n",
      "CustomerID     C0007     C0008     C0009     C0010  ...     C0191     C0192  \\\n",
      "CustomerID                                          ...                       \n",
      "C0001       0.123308 -0.051390 -0.050227 -0.051863  ... -0.013272  0.126515   \n",
      "C0002      -0.014641 -0.013307  0.024039  0.020602  ... -0.005437 -0.009107   \n",
      "C0003      -0.011303  0.011040 -0.010941 -0.012114  ... -0.006992 -0.012182   \n",
      "C0004      -0.013590  0.008444 -0.012630 -0.009856  ... -0.000723 -0.010014   \n",
      "C0005       0.018598 -0.023070 -0.008891 -0.011108  ... -0.007058  0.016843   \n",
      "\n",
      "CustomerID     C0193     C0194     C0195     C0196     C0197     C0198  \\\n",
      "CustomerID                                                               \n",
      "C0001      -0.014533 -0.013131 -0.053786 -0.057998  0.125472 -0.051701   \n",
      "C0002      -0.007357 -0.006618 -0.014069 -0.022745 -0.010466  0.021912   \n",
      "C0003      -0.006016 -0.009057  0.015262  0.016818 -0.011199 -0.010010   \n",
      "C0004      -0.004048  0.005500 -0.004036 -0.010911 -0.013260 -0.015955   \n",
      "C0005      -0.005097 -0.011163 -0.015348 -0.011531  0.018800 -0.006988   \n",
      "\n",
      "CustomerID     C0199     C0200  \n",
      "CustomerID                      \n",
      "C0001       0.126686 -0.056893  \n",
      "C0002      -0.008652  0.009487  \n",
      "C0003      -0.012165 -0.013448  \n",
      "C0004      -0.009973 -0.007644  \n",
      "C0005       0.016857 -0.013609  \n",
      "\n",
      "[5 rows x 199 columns]\n"
     ]
    }
   ],
   "source": [
    "# Display the first few rows of the similarity dataframe\n",
    "print(similarity_df.head())"
   ]
  },
  {
   "cell_type": "code",
   "execution_count": null,
   "id": "05dcbcc6",
   "metadata": {},
   "outputs": [],
   "source": []
  },
  {
   "cell_type": "code",
   "execution_count": null,
   "id": "22b94014",
   "metadata": {},
   "outputs": [],
   "source": []
  },
  {
   "cell_type": "markdown",
   "id": "ed537a0a",
   "metadata": {},
   "source": [
    "# Step 4: Model Development"
   ]
  },
  {
   "cell_type": "markdown",
   "id": "211f43f3",
   "metadata": {},
   "source": [
    "We will implement the Lookalike Model to recommend similar customers."
   ]
  },
  {
   "cell_type": "code",
   "execution_count": 49,
   "id": "9139e0bb",
   "metadata": {},
   "outputs": [
    {
     "name": "stdout",
     "output_type": "stream",
     "text": [
      "CustomerID\n",
      "C0119    0.128056\n",
      "C0157    0.127366\n",
      "C0199    0.126686\n",
      "Name: C0001, dtype: float64\n"
     ]
    }
   ],
   "source": [
    "def get_lookalikes(customer_id, similarity_df, top_n=3):\n",
    "    # Get the similarity scores for the given customer\n",
    "    \n",
    "    similarities = similarity_df[customer_id]\n",
    "    \n",
    "    # Sort the similarities in descending order\n",
    "    sorted_similarities = similarities.sort_values(ascending=False)\n",
    "    \n",
    "    # Exclude the customer itself and get the top N similar customers\n",
    "    lookalikes = sorted_similarities.iloc[1:top_n+1]\n",
    "    \n",
    "    return lookalikes\n",
    "\n",
    "# Example: Get lookalikes for customer C0001\n",
    "lookalikes = get_lookalikes('C0001', similarity_df)\n",
    "print(lookalikes)"
   ]
  },
  {
   "cell_type": "markdown",
   "id": "b49d1ec6",
   "metadata": {},
   "source": [
    "# Step 5: Model Evaluation"
   ]
  },
  {
   "cell_type": "markdown",
   "id": "2fbe09dc",
   "metadata": {},
   "source": [
    "We will generate recommendations and similarity scores for the first 20 customers."
   ]
  },
  {
   "cell_type": "code",
   "execution_count": 39,
   "id": "9cecd2bf",
   "metadata": {},
   "outputs": [],
   "source": [
    "# Initialize a dictionary to store the results\n",
    "lookalike_map = {}"
   ]
  },
  {
   "cell_type": "code",
   "execution_count": 41,
   "id": "a08ef900",
   "metadata": {},
   "outputs": [
    {
     "data": {
      "text/plain": [
       "0     C0001\n",
       "1     C0002\n",
       "2     C0003\n",
       "3     C0004\n",
       "4     C0005\n",
       "5     C0006\n",
       "6     C0007\n",
       "7     C0008\n",
       "8     C0009\n",
       "9     C0010\n",
       "10    C0011\n",
       "11    C0012\n",
       "12    C0013\n",
       "13    C0014\n",
       "14    C0015\n",
       "15    C0016\n",
       "16    C0017\n",
       "17    C0018\n",
       "18    C0019\n",
       "19    C0020\n",
       "Name: CustomerID, dtype: object"
      ]
     },
     "execution_count": 41,
     "metadata": {},
     "output_type": "execute_result"
    }
   ],
   "source": [
    "# Get the first 20 customers\n",
    "first_20_customers = customer_features['CustomerID'].head(20)\n",
    "first_20_customers"
   ]
  },
  {
   "cell_type": "code",
   "execution_count": 42,
   "id": "6a5670b2",
   "metadata": {},
   "outputs": [],
   "source": [
    "# Generate lookalikes for each customer\n",
    "for customer_id in first_20_customers:\n",
    "    lookalikes = get_lookalikes(customer_id, similarity_df)\n",
    "    lookalike_map[customer_id] = lookalikes.to_dict()"
   ]
  },
  {
   "cell_type": "code",
   "execution_count": 43,
   "id": "672bc1f5",
   "metadata": {},
   "outputs": [
    {
     "name": "stdout",
     "output_type": "stream",
     "text": [
      "{'C0001': {'C0119': 0.12805640750097697, 'C0157': 0.12736560475450195, 'C0199': 0.12668552955867923}, 'C0002': {'C0033': 0.0289363465792003, 'C0083': 0.025581969563973513, 'C0077': 0.024401428237390957}, 'C0003': {'C0014': 0.02041374940399066, 'C0151': 0.02039641208093111, 'C0097': 0.020367529582731914}, 'C0004': {'C0156': 0.01729541332433302, 'C0175': 0.014461937927148684, 'C0147': 0.011876157668777908}, 'C0005': {'C0001': 0.12515511413781072, 'C0130': 0.022820407571882955, 'C0020': 0.022510349487025245}, 'C0006': {'C0168': 0.018784394811009353, 'C0185': 0.015972986294934884, 'C0040': 0.015231004377908522}, 'C0007': {'C0001': 0.12330751361354267, 'C0066': 0.02702701366113619, 'C0020': 0.02616465025110942}, 'C0008': {'C0065': 0.038710855764238064, 'C0113': 0.03271922665220874, 'C0172': 0.027968912848337475}, 'C0009': {'C0033': 0.040626581851552816, 'C0083': 0.034230945393242285, 'C0058': 0.032227905340962745}, 'C0010': {'C0033': 0.030633111678387497, 'C0083': 0.02704253678503426, 'C0077': 0.02566330167614006}, 'C0011': {'C0168': 0.002190335942394629, 'C0185': 0.0015986337423639137, 'C0044': 0.001269471620111374}, 'C0012': {'C0065': 0.0263564014384879, 'C0008': 0.02454883971014088, 'C0059': 0.023133374874772267}, 'C0013': {'C0141': 0.029686221329840546, 'C0109': 0.023393432782000196, 'C0099': 0.022714531231600874}, 'C0014': {'C0060': 0.05042065709195252, 'C0097': 0.04883880210650479, 'C0151': 0.046321118575134684}, 'C0015': {'C0060': 0.010969022664330062, 'C0097': 0.01048305287720458, 'C0033': 0.010415492999974033}, 'C0016': {'C0040': 0.01916471693886049, 'C0141': 0.017086132078386048, 'C0200': 0.01660270958004796}, 'C0017': {'C0156': 0.017246905592098814, 'C0175': 0.014892752254981186, 'C0147': 0.014229677456330638}, 'C0018': {'C0168': 0.012750802381105413, 'C0185': 0.009954387329962334, 'C0082': 0.00846808416160423}, 'C0019': {'C0147': 0.01332438176555846, 'C0121': 0.010762294771846408, 'C0161': 0.01055039879141743}, 'C0020': {'C0001': 0.12217153955056441, 'C0066': 0.03395003405826416, 'C0140': 0.031804102180372384}}\n"
     ]
    }
   ],
   "source": [
    "# Display the lookalike map\n",
    "print(lookalike_map)"
   ]
  },
  {
   "cell_type": "markdown",
   "id": "8422c2e5",
   "metadata": {},
   "source": [
    "# Final Output"
   ]
  },
  {
   "cell_type": "code",
   "execution_count": 44,
   "id": "62f09a60",
   "metadata": {},
   "outputs": [],
   "source": [
    "# Convert the lookalike map to a dataframe\n",
    "lookalike_df = pd.DataFrame.from_dict(lookalike_map, orient='index')"
   ]
  },
  {
   "cell_type": "code",
   "execution_count": 45,
   "id": "01bec156",
   "metadata": {},
   "outputs": [],
   "source": [
    "# Save the dataframe to a CSV file\n",
    "lookalike_df.to_csv('Lookalike.csv')"
   ]
  },
  {
   "cell_type": "code",
   "execution_count": 46,
   "id": "64e67293",
   "metadata": {},
   "outputs": [
    {
     "name": "stdout",
     "output_type": "stream",
     "text": [
      "          C0119     C0157     C0199     C0033     C0083     C0077  C0014  \\\n",
      "C0001  0.128056  0.127366  0.126686       NaN       NaN       NaN    NaN   \n",
      "C0002       NaN       NaN       NaN  0.028936  0.025582  0.024401    NaN   \n",
      "C0009       NaN       NaN       NaN  0.040627  0.034231       NaN    NaN   \n",
      "C0010       NaN       NaN       NaN  0.030633  0.027043  0.025663    NaN   \n",
      "C0015       NaN       NaN       NaN  0.010415       NaN       NaN    NaN   \n",
      "\n",
      "       C0151     C0097  C0156  ...  C0059  C0141  C0109  C0099     C0060  \\\n",
      "C0001    NaN       NaN    NaN  ...    NaN    NaN    NaN    NaN       NaN   \n",
      "C0002    NaN       NaN    NaN  ...    NaN    NaN    NaN    NaN       NaN   \n",
      "C0009    NaN       NaN    NaN  ...    NaN    NaN    NaN    NaN       NaN   \n",
      "C0010    NaN       NaN    NaN  ...    NaN    NaN    NaN    NaN       NaN   \n",
      "C0015    NaN  0.010483    NaN  ...    NaN    NaN    NaN    NaN  0.010969   \n",
      "\n",
      "       C0200  C0082  C0121  C0161  C0140  \n",
      "C0001    NaN    NaN    NaN    NaN    NaN  \n",
      "C0002    NaN    NaN    NaN    NaN    NaN  \n",
      "C0009    NaN    NaN    NaN    NaN    NaN  \n",
      "C0010    NaN    NaN    NaN    NaN    NaN  \n",
      "C0015    NaN    NaN    NaN    NaN    NaN  \n",
      "\n",
      "[5 rows x 35 columns]\n"
     ]
    }
   ],
   "source": [
    "# Display the first few rows of the lookalike dataframe\n",
    "print(lookalike_df.head())"
   ]
  },
  {
   "cell_type": "code",
   "execution_count": null,
   "id": "f0615e03",
   "metadata": {},
   "outputs": [],
   "source": []
  },
  {
   "cell_type": "code",
   "execution_count": null,
   "id": "033a3721",
   "metadata": {},
   "outputs": [],
   "source": []
  },
  {
   "cell_type": "code",
   "execution_count": null,
   "id": "e11a2a4e",
   "metadata": {},
   "outputs": [],
   "source": []
  }
 ],
 "metadata": {
  "kernelspec": {
   "display_name": "Python 3 (ipykernel)",
   "language": "python",
   "name": "python3"
  },
  "language_info": {
   "codemirror_mode": {
    "name": "ipython",
    "version": 3
   },
   "file_extension": ".py",
   "mimetype": "text/x-python",
   "name": "python",
   "nbconvert_exporter": "python",
   "pygments_lexer": "ipython3",
   "version": "3.10.9"
  }
 },
 "nbformat": 4,
 "nbformat_minor": 5
}
